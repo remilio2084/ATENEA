{
  "cells": [
    {
      "cell_type": "markdown",
      "metadata": {
        "id": "view-in-github",
        "colab_type": "text"
      },
      "source": [
        "<a href=\"https://colab.research.google.com/github/remilio2084/ATENEA/blob/main/Ejercicio_1_Limpieza_de_datos_con_Pandas_Eliminar_valores_nulos.ipynb\" target=\"_parent\"><img src=\"https://colab.research.google.com/assets/colab-badge.svg\" alt=\"Open In Colab\"/></a>"
      ]
    },
    {
      "cell_type": "code",
      "source": [
        "import pandas as pd\n",
        "import numpy as np\n",
        "\n",
        "print(\"Iniciando el proceso de manejo de valores nulos para un dataset de 20 registros...\\n\")\n",
        "\n",
        "# 1. Crear un dataset con 8 columnas que contenga información al azar de 20 registros\n",
        "#    y que algunos campos contengan valores nulos.\n",
        "print(\"1. Creando un dataset de ejemplo con 20 registros y valores nulos intencionales:\\n\")\n",
        "\n",
        "num_records = 20 # Definimos el número de registros\n",
        "\n",
        "# Creamos un diccionario con datos aleatorios para 8 columnas\n",
        "data = {\n",
        "    'ID_Cliente': np.arange(1, num_records + 1),\n",
        "    'Edad': np.random.randint(18, 65, num_records),\n",
        "    'Ingresos_Mensuales': np.random.choice([2000, 3500, np.nan, 5000, 1800, 7000], num_records),\n",
        "    'Tipo_Plan': np.random.choice(['Básico', 'Premium', 'VIP', np.nan, 'Estándar'], num_records),\n",
        "    'Antiguedad_Meses': np.random.randint(1, 120, num_records),\n",
        "    'Ciudad': np.random.choice(['Madrid', 'Barcelona', 'Valencia', 'Sevilla', np.nan, 'Bilbao'], num_records),\n",
        "    'Compras_Ultimo_Mes': np.random.choice([0, 1, 2, 3, np.nan, 5], num_records),\n",
        "    'Fecha_Registro': pd.to_datetime(np.random.choice(['2022-01-10', '2022-05-22', np.nan, '2023-03-15', '2023-09-01'], num_records))\n",
        "}\n",
        "\n",
        "# Creamos el DataFrame\n",
        "df = pd.DataFrame(data)\n",
        "\n",
        "# Introducimos más valores nulos intencionalmente para asegurar la presencia\n",
        "# en varias columnas y filas específicas para el ejercicio.\n",
        "df.loc[[1, 5, 10, 18], 'Edad'] = np.nan\n",
        "df.loc[[0, 7, 13, 19], 'Ingresos_Mensuales'] = np.nan\n",
        "df.loc[[2, 11], 'Tipo_Plan'] = np.nan\n",
        "df.loc[14, 'Antiguedad_Meses'] = np.nan\n",
        "df.loc[[3, 9, 16], 'Ciudad'] = np.nan\n",
        "df.loc[[4, 17], 'Compras_Ultimo_Mes'] = np.nan\n",
        "df.loc[6, 'Fecha_Registro'] = np.nan\n",
        "\n",
        "\n",
        "print(\"--- Dataset Original con Valores Nulos (20 Registros) ---\\n\")\n",
        "print(df)\n",
        "\n",
        "# 2. Para el dataset que formulaste, escribe el codigo python que permita\n",
        "#    Identificar y eliminar los valores nulos de las columnas que creaste.\n",
        "print(\"\\n2. Identificando y eliminando valores nulos...\\n\")\n",
        "\n",
        "# Identificar la cantidad de valores nulos por columna antes de la eliminación\n",
        "print(\"Conteo de valores nulos por columna (antes de la eliminación):\\n\")\n",
        "print(df.isnull().sum())\n",
        "\n",
        "# Crear una copia del DataFrame para realizar la limpieza y no modificar el original\n",
        "df_cleaned = df.copy()\n",
        "\n",
        "# Eliminar filas que contengan cualquier valor nulo\n",
        "# Usamos `inplace=True` para modificar el DataFrame directamente\n",
        "df_cleaned.dropna(inplace=True)\n",
        "\n",
        "print(\"\\n--- Dataset Después de Eliminar Filas con Valores Nulos ---\\n\")\n",
        "print(df_cleaned)\n",
        "\n",
        "# 3. En el codigo se debe comprobar que los datos ya no contienen valores nulos.\n",
        "print(\"\\n3. Comprobando que los datos ya no contienen valores nulos...\\n\")\n",
        "\n",
        "# Verificamos la cantidad de valores nulos por columna después de la limpieza\n",
        "print(\"Conteo de valores nulos por columna (después de la eliminación):\\n\")\n",
        "null_counts_after = df_cleaned.isnull().sum()\n",
        "print(null_counts_after)\n",
        "\n",
        "# Verificación final: Si la suma total de nulos en todas las columnas es 0,\n",
        "# significa que no hay nulos en todo el DataFrame limpio.\n",
        "if null_counts_after.sum() == 0:\n",
        "    print(\"\\n¡Verificación Exitosa! El dataset se ha limpiado correctamente y ya no contiene valores nulos.\")\n",
        "else:\n",
        "    print(\"\\nAdvertencia: Todavía quedan valores nulos en el dataset. Por favor, revise el proceso de limpieza.\")\n",
        "\n",
        "print(\"\\nProceso de manejo de valores nulos completado y verificado.\")"
      ],
      "outputs": [],
      "execution_count": null,
      "metadata": {
        "id": "q-KFdM1ZvFgu"
      }
    }
  ],
  "metadata": {
    "colab": {
      "provenance": [],
      "include_colab_link": true
    },
    "kernelspec": {
      "display_name": "Python 3",
      "name": "python3"
    }
  },
  "nbformat": 4,
  "nbformat_minor": 0
}