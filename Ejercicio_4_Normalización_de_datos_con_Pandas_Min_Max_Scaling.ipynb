{
  "cells": [
    {
      "cell_type": "markdown",
      "metadata": {
        "id": "view-in-github",
        "colab_type": "text"
      },
      "source": [
        "<a href=\"https://colab.research.google.com/github/remilio2084/ATENEA/blob/main/Ejercicio_4_Normalizaci%C3%B3n_de_datos_con_Pandas_Min_Max_Scaling.ipynb\" target=\"_parent\"><img src=\"https://colab.research.google.com/assets/colab-badge.svg\" alt=\"Open In Colab\"/></a>"
      ]
    },
    {
      "cell_type": "code",
      "source": [
        "import pandas as pd\n",
        "import numpy as np\n",
        "\n",
        "print(\"Iniciando el proceso de normalización de datos con escalado Min-Max...\\n\")\n",
        "\n",
        "# 1. Crear un dataset con 8 columnas que contenga información al azar con 20 registros\n",
        "#    y con características numéricas.\n",
        "print(\"1. Creando un dataset de ejemplo con 20 registros y 8 columnas numéricas:\\n\")\n",
        "\n",
        "num_records = 20 # Número de registros\n",
        "num_columns = 8  # Número de columnas\n",
        "\n",
        "# Creamos un DataFrame con datos numéricos aleatorios\n",
        "# Usaremos np.random.rand para datos decimales y np.random.randint para enteros.\n",
        "# Esto asegura diferentes rangos para cada columna.\n",
        "data = {\n",
        "    'Caracteristica_A': np.random.rand(num_records) * 100, # Rango ~[0, 100]\n",
        "    'Caracteristica_B': np.random.randint(50, 200, num_records), # Rango ~[50, 200]\n",
        "    'Caracteristica_C': np.random.normal(loc=1000, scale=50, size=num_records), # Distribución normal\n",
        "    'Caracteristica_D': np.random.uniform(-10, 30, num_records), # Rango ~[-10, 30]\n",
        "    'Caracteristica_E': np.random.poisson(lam=5, size=num_records), # Datos de conteo\n",
        "    'Caracteristica_F': np.random.randint(1, 10, num_records), # Rango pequeño ~[1, 10]\n",
        "    'Caracteristica_G': np.random.exponential(scale=20, size=num_records), # Distribución exponencial\n",
        "    'Caracteristica_H': np.random.normal(loc=0, scale=1, size=num_records) # Distribución normal estándar\n",
        "}\n",
        "\n",
        "df = pd.DataFrame(data)\n",
        "\n",
        "print(\"--- Dataset Original ---\")\n",
        "print(df)\n",
        "print(\"\\n--- Estadísticas Descriptivas del Dataset Original (Rangos) ---\")\n",
        "print(df.describe())\n",
        "\n",
        "# 2. Para el dataset que formulaste, escribe el codigo python que permita\n",
        "#    Aplicar el escalado Min-Max para normalizar los datos.\n",
        "print(\"\\n2. Aplicando el escalado Min-Max para normalizar los datos...\\n\")\n",
        "\n",
        "# Creamos una copia del DataFrame para almacenar los datos normalizados\n",
        "df_normalized = df.copy()\n",
        "\n",
        "# Iteramos sobre cada columna para aplicar el escalado Min-Max\n",
        "for column in df.columns:\n",
        "    min_val = df[column].min()\n",
        "    max_val = df[column].max()\n",
        "\n",
        "    # Evitar división por cero si todos los valores en la columna son iguales\n",
        "    if max_val == min_val:\n",
        "        df_normalized[column] = 0.0 # O 1.0, o mantener el valor original si se prefiere. 0.0 es común.\n",
        "    else:\n",
        "        df_normalized[column] = (df[column] - min_val) / (max_val - min_val)\n",
        "\n",
        "print(\"--- Dataset Normalizado con Escalado Min-Max ---\")\n",
        "print(df_normalized)\n",
        "\n",
        "# 3. En el codigo se debe verificar que las características estén en el rango [0, 1].\n",
        "print(\"\\n3. Verificando que las características estén en el rango [0, 1]...\\n\")\n",
        "\n",
        "print(\"--- Estadísticas Descriptivas del Dataset Normalizado ---\")\n",
        "print(df_normalized.describe())\n",
        "\n",
        "# Realizamos una verificación explícita para cada columna\n",
        "all_in_range = True\n",
        "for column in df_normalized.columns:\n",
        "    col_min = df_normalized[column].min()\n",
        "    col_max = df_normalized[column].max()\n",
        "\n",
        "    # Usamos una pequeña tolerancia para la verificación debido a la precisión de punto flotante\n",
        "    tolerance = 1e-9 # 10^-9\n",
        "\n",
        "    if not (col_min >= 0.0 - tolerance and col_max <= 1.0 + tolerance):\n",
        "        print(f\"❌ La columna '{column}' NO está en el rango [0, 1]. Min: {col_min:.6f}, Max: {col_max:.6f}\")\n",
        "        all_in_range = False\n",
        "    else:\n",
        "        print(f\"✔️ La columna '{column}' está en el rango [0, 1]. Min: {col_min:.6f}, Max: {col_max:.6f}\")\n",
        "\n",
        "if all_in_range:\n",
        "    print(\"\\n¡Verificación Exitosa! Todas las características numéricas están en el rango [0, 1].\")\n",
        "else:\n",
        "    print(\"\\nAdvertencia: Algunas características no están completamente en el rango [0, 1].\")\n",
        "\n",
        "print(\"\\nProceso de normalización de datos completado y verificado.\")"
      ],
      "outputs": [],
      "execution_count": null,
      "metadata": {
        "id": "dCeW0DwFt9mJ"
      }
    }
  ],
  "metadata": {
    "colab": {
      "provenance": [],
      "include_colab_link": true
    },
    "kernelspec": {
      "display_name": "Python 3",
      "name": "python3"
    }
  },
  "nbformat": 4,
  "nbformat_minor": 0
}